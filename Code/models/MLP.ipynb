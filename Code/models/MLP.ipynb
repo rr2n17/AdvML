{
 "cells": [
  {
   "cell_type": "markdown",
   "metadata": {},
   "source": [
    "### Import Libraries"
   ]
  },
  {
   "cell_type": "code",
   "execution_count": 1,
   "metadata": {},
   "outputs": [
    {
     "name": "stderr",
     "output_type": "stream",
     "text": [
      "c:\\apps\\anaconda2\\envs\\env2\\lib\\site-packages\\h5py\\__init__.py:36: FutureWarning: Conversion of the second argument of issubdtype from `float` to `np.floating` is deprecated. In future, it will be treated as `np.float64 == np.dtype(float).type`.\n",
      "  from ._conv import register_converters as _register_converters\n",
      "Using TensorFlow backend.\n"
     ]
    },
    {
     "name": "stdout",
     "output_type": "stream",
     "text": [
      "[name: \"/device:CPU:0\"\n",
      "device_type: \"CPU\"\n",
      "memory_limit: 268435456\n",
      "locality {\n",
      "}\n",
      "incarnation: 1261283739403927784\n",
      ", name: \"/device:GPU:0\"\n",
      "device_type: \"GPU\"\n",
      "memory_limit: 3228522905\n",
      "locality {\n",
      "  bus_id: 1\n",
      "}\n",
      "incarnation: 8010131025787568655\n",
      "physical_device_desc: \"device: 0, name: GeForce GTX 980, pci bus id: 0000:04:00.0, compute capability: 5.2\"\n",
      "]\n"
     ]
    }
   ],
   "source": [
    "import sys, os, re, csv, codecs, numpy as np, pandas as pd\n",
    "import matplotlib.pyplot as plt\n",
    "%matplotlib inline\n",
    "from keras.preprocessing.text import Tokenizer\n",
    "from keras.preprocessing.sequence import pad_sequences\n",
    "from keras.layers import Dense, Input, LSTM, Embedding, Dropout, Activation\n",
    "from keras.layers import Bidirectional, GlobalMaxPool1D\n",
    "from keras.models import Model\n",
    "from keras.models import Sequential\n",
    "from keras.callbacks import EarlyStopping\n",
    "from keras import initializers, regularizers, constraints, optimizers, layers\n",
    "from keras import losses\n",
    "\n",
    "from tensorflow.python.client import device_lib\n",
    "print(device_lib.list_local_devices())"
   ]
  },
  {
   "cell_type": "markdown",
   "metadata": {},
   "source": [
    "### Read data"
   ]
  },
  {
   "cell_type": "code",
   "execution_count": 30,
   "metadata": {},
   "outputs": [],
   "source": [
    "path = 'FT100FV32/'\n",
    "filename = 'Toxic32MMft100.csv'\n",
    "obscene = pd.read_csv(path + filename)\n",
    "obscene.shape\n",
    "obscene = obscene.sample(frac = 1)"
   ]
  },
  {
   "cell_type": "code",
   "execution_count": 31,
   "metadata": {},
   "outputs": [],
   "source": [
    "xx = obscene.iloc[:, 1:1001]\n",
    "yy = obscene.iloc[:, -1]"
   ]
  },
  {
   "cell_type": "code",
   "execution_count": 32,
   "metadata": {},
   "outputs": [
    {
     "data": {
      "text/plain": [
       "0"
      ]
     },
     "execution_count": 32,
     "metadata": {},
     "output_type": "execute_result"
    }
   ],
   "source": [
    "#To check for NULL values in training and test data\n",
    "xx.isnull().any().sum()"
   ]
  },
  {
   "cell_type": "code",
   "execution_count": 33,
   "metadata": {},
   "outputs": [],
   "source": [
    "xx = xx.as_matrix()"
   ]
  },
  {
   "cell_type": "markdown",
   "metadata": {},
   "source": [
    "### MLP"
   ]
  },
  {
   "cell_type": "code",
   "execution_count": 34,
   "metadata": {},
   "outputs": [],
   "source": [
    "# # fix random seed for reproducibility\n",
    "# seed = 7\n",
    "# np.random.seed(seed)\n",
    "\n",
    "# model = Sequential()\n",
    "# model.add(Dense(2048, input_dim=1000, kernel_initializer='normal', activation='relu'))\n",
    "# model.add(Dropout(0.50))\n",
    "\n",
    "# # model.add(Dropout(0.25))\n",
    "# model.add(Dense(1024, activation='relu'))\n",
    "# # model.add(Dropout(0.50))\n",
    "# model.add(Dense(512, activation='relu'))\n",
    "# model.add(Dense(256, activation='relu'))\n",
    "# model.add(Dense(64, activation='relu'))\n",
    "# model.add(Dense(1, activation='sigmoid'))\n",
    "\n",
    "# model.compile(loss='binary_crossentropy',\n",
    "#               optimizer='adam',\n",
    "# #               rmsprop, adam - optimizer\n",
    "#               metrics=['accuracy'])\n",
    "\n",
    "# early_stopping = EarlyStopping(monitor='val_loss', min_delta=0.01, patience=4, verbose=1)\n",
    "# callbacks_list = [early_stopping]\n",
    "\n",
    "# model.fit(xx, yy,\n",
    "#           epochs=15,\n",
    "#           batch_size=64,\n",
    "#           validation_split=0.15, \n",
    "#           verbose=1)\n",
    "#           #callbacks=callbacks_list)\n",
    "# # score = model.evaluate(x_test, y_test, batch_size=128)"
   ]
  },
  {
   "cell_type": "code",
   "execution_count": 35,
   "metadata": {
    "scrolled": true
   },
   "outputs": [
    {
     "name": "stdout",
     "output_type": "stream",
     "text": [
      "Train on 155952 samples, validate on 27521 samples\n",
      "Epoch 1/15\n",
      "155952/155952 [==============================] - 22s 142us/step - loss: 0.1459 - acc: 0.9430 - val_loss: 0.1214 - val_acc: 0.9524\n",
      "Epoch 2/15\n",
      "155952/155952 [==============================] - 22s 140us/step - loss: 0.0948 - acc: 0.9624 - val_loss: 0.1044 - val_acc: 0.9606\n",
      "Epoch 3/15\n",
      "155952/155952 [==============================] - 22s 140us/step - loss: 0.0593 - acc: 0.9774 - val_loss: 0.0986 - val_acc: 0.9674\n",
      "Epoch 4/15\n",
      "155952/155952 [==============================] - 22s 141us/step - loss: 0.0398 - acc: 0.9852 - val_loss: 0.0989 - val_acc: 0.9679\n",
      "Epoch 5/15\n",
      "155952/155952 [==============================] - 22s 141us/step - loss: 0.0295 - acc: 0.9893 - val_loss: 0.1074 - val_acc: 0.9695\n",
      "Epoch 6/15\n",
      "155952/155952 [==============================] - 22s 142us/step - loss: 0.0244 - acc: 0.9910 - val_loss: 0.1153 - val_acc: 0.9706\n",
      "Epoch 00006: early stopping\n"
     ]
    },
    {
     "data": {
      "text/plain": [
       "<keras.callbacks.History at 0x2265b7ccb00>"
      ]
     },
     "execution_count": 35,
     "metadata": {},
     "output_type": "execute_result"
    }
   ],
   "source": [
    "# fix random seed for reproducibility\n",
    "seed = 7\n",
    "np.random.seed(seed)\n",
    "\n",
    "model = Sequential()\n",
    "model.add(Dense(2048, input_dim=1000, kernel_initializer='normal', activation='relu'))\n",
    "model.add(Dropout(0.50))\n",
    "\n",
    "# model.add(Dropout(0.25))\n",
    "# model.add(Dense(1024, activation='relu'))\n",
    "# model.add(Dropout(0.50))\n",
    "model.add(Dense(512, activation='relu'))\n",
    "# model.add(Dense(256, activation='relu'))\n",
    "# model.add(Dense(64, activation='relu'))\n",
    "model.add(Dense(1, activation='sigmoid'))\n",
    "\n",
    "model.compile(loss='binary_crossentropy',\n",
    "              optimizer='adam',\n",
    "#               rmsprop, adam - optimizer\n",
    "              metrics=['accuracy'])\n",
    "\n",
    "early_stopping = EarlyStopping(monitor='val_loss', min_delta=0.01, patience=4, verbose=1)\n",
    "callbacks_list = [early_stopping]\n",
    "\n",
    "model.fit(xx, yy,\n",
    "          epochs=15,\n",
    "          batch_size=64,\n",
    "          validation_split=0.15,\n",
    "          callbacks=callbacks_list)\n",
    "# score = model.evaluate(x_test, y_test, batch_size=128)"
   ]
  },
  {
   "cell_type": "markdown",
   "metadata": {},
   "source": [
    "### Save the model"
   ]
  },
  {
   "cell_type": "code",
   "execution_count": 36,
   "metadata": {},
   "outputs": [
    {
     "name": "stdout",
     "output_type": "stream",
     "text": [
      "Done\n"
     ]
    }
   ],
   "source": [
    "# save the model to disk\n",
    "label = filename[:-13]\n",
    "clf_type = 'MLP'\n",
    "filename1 = clf_type + '_' + label + '.h5'\n",
    "path = 'clfs/' + clf_type + '/'\n",
    "model.save(path + filename1)\n",
    "print('Done')"
   ]
  },
  {
   "cell_type": "code",
   "execution_count": null,
   "metadata": {},
   "outputs": [],
   "source": []
  }
 ],
 "metadata": {
  "kernelspec": {
   "display_name": "Python 3",
   "language": "python",
   "name": "python3"
  },
  "language_info": {
   "codemirror_mode": {
    "name": "ipython",
    "version": 3
   },
   "file_extension": ".py",
   "mimetype": "text/x-python",
   "name": "python",
   "nbconvert_exporter": "python",
   "pygments_lexer": "ipython3",
   "version": "3.6.5"
  }
 },
 "nbformat": 4,
 "nbformat_minor": 2
}
