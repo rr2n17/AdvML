{
 "cells": [
  {
   "cell_type": "markdown",
   "metadata": {},
   "source": [
    "### Import Libraries"
   ]
  },
  {
   "cell_type": "code",
   "execution_count": 27,
   "metadata": {},
   "outputs": [],
   "source": [
    "import sys, os, re, csv, codecs, numpy as np, pandas as pd\n",
    "import matplotlib.pyplot as plt\n",
    "%matplotlib inline\n",
    "from sklearn.discriminant_analysis import LinearDiscriminantAnalysis as LDA\n",
    "from sklearn.model_selection import cross_val_score\n",
    "import sklearn\n",
    "from sklearn import metrics\n",
    "import time\n",
    "import pickle\n",
    "\n",
    "# from tensorflow.python.client import device_lib\n",
    "# print(device_lib.list_local_devices())"
   ]
  },
  {
   "cell_type": "markdown",
   "metadata": {},
   "source": [
    "### Read data"
   ]
  },
  {
   "cell_type": "code",
   "execution_count": 54,
   "metadata": {},
   "outputs": [],
   "source": [
    "path = 'FT100FV32/'\n",
    "filename = 'Toxic32MMft100.csv'\n",
    "obscene = pd.read_csv(path + filename)\n",
    "obscene.shape\n",
    "obscene = obscene.sample(frac = 1)"
   ]
  },
  {
   "cell_type": "code",
   "execution_count": 55,
   "metadata": {},
   "outputs": [],
   "source": [
    "xx = obscene.iloc[:, 1:1001]\n",
    "yy = obscene.iloc[:, -1]"
   ]
  },
  {
   "cell_type": "code",
   "execution_count": 56,
   "metadata": {},
   "outputs": [
    {
     "data": {
      "text/plain": [
       "0"
      ]
     },
     "execution_count": 56,
     "metadata": {},
     "output_type": "execute_result"
    }
   ],
   "source": [
    "#To check for NULL values in training and test data\n",
    "xx.isnull().any().sum()"
   ]
  },
  {
   "cell_type": "code",
   "execution_count": 57,
   "metadata": {},
   "outputs": [],
   "source": [
    "xx = xx.as_matrix()"
   ]
  },
  {
   "cell_type": "markdown",
   "metadata": {},
   "source": [
    "### LDA"
   ]
  },
  {
   "cell_type": "code",
   "execution_count": 58,
   "metadata": {},
   "outputs": [
    {
     "name": "stderr",
     "output_type": "stream",
     "text": [
      "c:\\apps\\anaconda2\\envs\\env2\\lib\\site-packages\\sklearn\\model_selection\\_split.py:2026: FutureWarning: From version 0.21, test_size will always complement train_size unless both are specified.\n",
      "  FutureWarning)\n"
     ]
    },
    {
     "name": "stdout",
     "output_type": "stream",
     "text": [
      "Time spent: 40.28618884086609\n",
      "AUC: 0.9789131214901742\n"
     ]
    }
   ],
   "source": [
    "clf = LDA()\n",
    "time1 = time.time()\n",
    "\n",
    "# split data\n",
    "xx_tr, xx_te, yy_tr, yy_te = sklearn.model_selection.train_test_split(xx, yy, train_size=0.99)\n",
    "clf.fit(xx_tr, yy_tr)\n",
    "yy_predicted = clf.predict_proba(xx_te)\n",
    "t = pd.DataFrame(yy_predicted)\n",
    "\n",
    "time2 = time.time()\n",
    "print(\"Time spent:\", time2 - time1)\n",
    "print('AUC:', metrics.roc_auc_score(yy_te, t[1]))\n",
    "# clf = LR(n_jobs=2, verbose=1)\n",
    "# print('Accuracy:', cross_val_score(clf, xx, yy))"
   ]
  },
  {
   "cell_type": "markdown",
   "metadata": {},
   "source": [
    "### Save the classifier"
   ]
  },
  {
   "cell_type": "code",
   "execution_count": 59,
   "metadata": {},
   "outputs": [
    {
     "name": "stdout",
     "output_type": "stream",
     "text": [
      "Done\n"
     ]
    }
   ],
   "source": [
    "# save the model to disk\n",
    "label = filename[:-13]\n",
    "clf_type = 'LDA'\n",
    "filename1 = clf_type + '_' + label + '.sav'\n",
    "path = 'clfs/' + clf_type + '/'\n",
    "pickle.dump(clf, open(path + filename1, 'wb'))\n",
    "print('Done')"
   ]
  },
  {
   "cell_type": "code",
   "execution_count": null,
   "metadata": {},
   "outputs": [],
   "source": []
  }
 ],
 "metadata": {
  "kernelspec": {
   "display_name": "Python 3",
   "language": "python",
   "name": "python3"
  },
  "language_info": {
   "codemirror_mode": {
    "name": "ipython",
    "version": 3
   },
   "file_extension": ".py",
   "mimetype": "text/x-python",
   "name": "python",
   "nbconvert_exporter": "python",
   "pygments_lexer": "ipython3",
   "version": "3.6.5"
  }
 },
 "nbformat": 4,
 "nbformat_minor": 2
}
