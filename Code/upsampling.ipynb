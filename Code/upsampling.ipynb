{
 "cells": [
  {
   "cell_type": "code",
   "execution_count": 1,
   "metadata": {
    "colab": {
     "autoexec": {
      "startup": false,
      "wait_interval": 0
     }
    },
    "colab_type": "code",
    "collapsed": true,
    "id": "GfI4uspYeTmK"
   },
   "outputs": [],
   "source": [
    "# !git clone https://github.com/rr2n17/AdvML.git"
   ]
  },
  {
   "cell_type": "code",
   "execution_count": 2,
   "metadata": {
    "colab": {
     "autoexec": {
      "startup": false,
      "wait_interval": 0
     },
     "base_uri": "https://localhost:8080/",
     "height": 34
    },
    "colab_type": "code",
    "executionInfo": {
     "elapsed": 1714,
     "status": "ok",
     "timestamp": 1524403039064,
     "user": {
      "displayName": "Anton Okhotnikov",
      "photoUrl": "https://lh3.googleusercontent.com/a/default-user=s128",
      "userId": "111886964614144141367"
     },
     "user_tz": -60
    },
    "id": "DKO2N7kTfQmW",
    "outputId": "f53b1ba8-f1c5-4731-c495-76dab5e9c12b"
   },
   "outputs": [
    {
     "name": "stdout",
     "output_type": "stream",
     "text": [
      "test.csv  train.csv  upsampling.ipynb\r\n"
     ]
    }
   ],
   "source": [
    "!ls"
   ]
  },
  {
   "cell_type": "markdown",
   "metadata": {
    "colab_type": "text",
    "id": "dGP2vCLyaiMQ"
   },
   "source": [
    "## Install libraries"
   ]
  },
  {
   "cell_type": "code",
   "execution_count": 6,
   "metadata": {
    "colab": {
     "autoexec": {
      "startup": false,
      "wait_interval": 0
     }
    },
    "colab_type": "code",
    "id": "mrOpEu2uWfjI"
   },
   "outputs": [],
   "source": [
    "# !pip install --upgrade pip\n",
    "# !pip install nltk\n",
    "# !apt-get install libenchant1c2a\n",
    "# !pip install pyenchant\n",
    "# !pip install joblib textblob -U"
   ]
  },
  {
   "cell_type": "code",
   "execution_count": 4,
   "metadata": {
    "colab": {
     "autoexec": {
      "startup": false,
      "wait_interval": 0
     }
    },
    "colab_type": "code",
    "collapsed": true,
    "id": "LS6HAG0sYkTy"
   },
   "outputs": [],
   "source": [
    "import pandas as pd\n",
    "from nltk.corpus import wordnet, stopwords\n",
    "from nltk.tokenize import word_tokenize\n",
    "from random import randint\n",
    "import nltk.data\n",
    "from nltk.tokenize import TreebankWordTokenizer\n",
    "import re\n",
    "import enchant\n",
    "from enchant.checker import SpellChecker\n",
    "from joblib import Parallel, delayed\n",
    "from textblob import TextBlob\n",
    "from textblob.translate import NotTranslated"
   ]
  },
  {
   "cell_type": "code",
   "execution_count": 7,
   "metadata": {
    "colab": {
     "autoexec": {
      "startup": false,
      "wait_interval": 0
     }
    },
    "colab_type": "code",
    "id": "tax-9UqIqo5S"
   },
   "outputs": [],
   "source": [
    "# nltk.download(\"averaged_perceptron_tagger\")\n",
    "# nltk.download(\"wordnet\")\n",
    "# nltk.download('punkt')\n",
    "# nltk.download('stopwords')"
   ]
  },
  {
   "cell_type": "markdown",
   "metadata": {
    "colab_type": "text",
    "id": "05VDJMTzYIvK"
   },
   "source": [
    "## Read data"
   ]
  },
  {
   "cell_type": "code",
   "execution_count": 62,
   "metadata": {
    "colab": {
     "autoexec": {
      "startup": false,
      "wait_interval": 0
     },
     "base_uri": "https://localhost:8080/",
     "height": 206
    },
    "colab_type": "code",
    "executionInfo": {
     "elapsed": 1782,
     "status": "ok",
     "timestamp": 1524407312996,
     "user": {
      "displayName": "Anton Okhotnikov",
      "photoUrl": "https://lh3.googleusercontent.com/a/default-user=s128",
      "userId": "111886964614144141367"
     },
     "user_tz": -60
    },
    "id": "nH8hl60SW9VY",
    "outputId": "c55d7b3d-85ba-4453-e819-986df97b2608"
   },
   "outputs": [
    {
     "data": {
      "text/html": [
       "<div>\n",
       "<style>\n",
       "    .dataframe thead tr:only-child th {\n",
       "        text-align: right;\n",
       "    }\n",
       "\n",
       "    .dataframe thead th {\n",
       "        text-align: left;\n",
       "    }\n",
       "\n",
       "    .dataframe tbody tr th {\n",
       "        vertical-align: top;\n",
       "    }\n",
       "</style>\n",
       "<table border=\"1\" class=\"dataframe\">\n",
       "  <thead>\n",
       "    <tr style=\"text-align: right;\">\n",
       "      <th></th>\n",
       "      <th>id</th>\n",
       "      <th>comment_text</th>\n",
       "      <th>toxic</th>\n",
       "      <th>severe_toxic</th>\n",
       "      <th>obscene</th>\n",
       "      <th>threat</th>\n",
       "      <th>insult</th>\n",
       "      <th>identity_hate</th>\n",
       "    </tr>\n",
       "  </thead>\n",
       "  <tbody>\n",
       "    <tr>\n",
       "      <th>0</th>\n",
       "      <td>0000997932d777bf</td>\n",
       "      <td>Explanation\\nWhy the edits made under my usern...</td>\n",
       "      <td>0</td>\n",
       "      <td>0</td>\n",
       "      <td>0</td>\n",
       "      <td>0</td>\n",
       "      <td>0</td>\n",
       "      <td>0</td>\n",
       "    </tr>\n",
       "    <tr>\n",
       "      <th>1</th>\n",
       "      <td>000103f0d9cfb60f</td>\n",
       "      <td>D'aww! He matches this background colour I'm s...</td>\n",
       "      <td>0</td>\n",
       "      <td>0</td>\n",
       "      <td>0</td>\n",
       "      <td>0</td>\n",
       "      <td>0</td>\n",
       "      <td>0</td>\n",
       "    </tr>\n",
       "    <tr>\n",
       "      <th>2</th>\n",
       "      <td>000113f07ec002fd</td>\n",
       "      <td>Hey man, I'm really not trying to edit war. It...</td>\n",
       "      <td>0</td>\n",
       "      <td>0</td>\n",
       "      <td>0</td>\n",
       "      <td>0</td>\n",
       "      <td>0</td>\n",
       "      <td>0</td>\n",
       "    </tr>\n",
       "    <tr>\n",
       "      <th>3</th>\n",
       "      <td>0001b41b1c6bb37e</td>\n",
       "      <td>\"\\nMore\\nI can't make any real suggestions on ...</td>\n",
       "      <td>0</td>\n",
       "      <td>0</td>\n",
       "      <td>0</td>\n",
       "      <td>0</td>\n",
       "      <td>0</td>\n",
       "      <td>0</td>\n",
       "    </tr>\n",
       "    <tr>\n",
       "      <th>4</th>\n",
       "      <td>0001d958c54c6e35</td>\n",
       "      <td>You, sir, are my hero. Any chance you remember...</td>\n",
       "      <td>0</td>\n",
       "      <td>0</td>\n",
       "      <td>0</td>\n",
       "      <td>0</td>\n",
       "      <td>0</td>\n",
       "      <td>0</td>\n",
       "    </tr>\n",
       "  </tbody>\n",
       "</table>\n",
       "</div>"
      ],
      "text/plain": [
       "                 id                                       comment_text  toxic  \\\n",
       "0  0000997932d777bf  Explanation\\nWhy the edits made under my usern...      0   \n",
       "1  000103f0d9cfb60f  D'aww! He matches this background colour I'm s...      0   \n",
       "2  000113f07ec002fd  Hey man, I'm really not trying to edit war. It...      0   \n",
       "3  0001b41b1c6bb37e  \"\\nMore\\nI can't make any real suggestions on ...      0   \n",
       "4  0001d958c54c6e35  You, sir, are my hero. Any chance you remember...      0   \n",
       "\n",
       "   severe_toxic  obscene  threat  insult  identity_hate  \n",
       "0             0        0       0       0              0  \n",
       "1             0        0       0       0              0  \n",
       "2             0        0       0       0              0  \n",
       "3             0        0       0       0              0  \n",
       "4             0        0       0       0              0  "
      ]
     },
     "execution_count": 62,
     "metadata": {},
     "output_type": "execute_result"
    }
   ],
   "source": [
    "path = \"./train.csv\"\n",
    "dataset = pd.read_csv(path)\n",
    "dataset.head()"
   ]
  },
  {
   "cell_type": "markdown",
   "metadata": {
    "colab_type": "text",
    "id": "xWDnxj8bm_gm"
   },
   "source": [
    "## Upsample"
   ]
  },
  {
   "cell_type": "code",
   "execution_count": 63,
   "metadata": {
    "colab": {
     "autoexec": {
      "startup": false,
      "wait_interval": 0
     }
    },
    "colab_type": "code",
    "id": "5JolGACka3jW"
   },
   "outputs": [
    {
     "name": "stdout",
     "output_type": "stream",
     "text": [
      "15294\n"
     ]
    }
   ],
   "source": [
    "ds = dataset[dataset['toxic'] == 1]\n",
    "print(len(ds))\n",
    "ds = ds[['comment_text', 'toxic']].iloc[:100]\n",
    "\n",
    "tokenizer = TreebankWordTokenizer()\n",
    "chkr = SpellChecker(\"en_UK\", \"en_US\")\n",
    "\n",
    "def low(x):\n",
    "    # spelling checker\n",
    "    x = re.sub(r'[\\W_]+', ' ', x)\n",
    "    chkr.set_text(x)\n",
    "    for err in chkr:\n",
    "        if len(err.suggest()) > 0:\n",
    "            sug = err.suggest()[0]\n",
    "            err.replace(sug)\n",
    "            x = chkr.get_text()\n",
    "    \n",
    "    return x.lower()\n",
    "\n",
    "\n",
    "ds['comment_text'] = ds['comment_text'].apply(lambda x: low(x))"
   ]
  },
  {
   "cell_type": "code",
   "execution_count": 64,
   "metadata": {
    "colab": {
     "autoexec": {
      "startup": false,
      "wait_interval": 0
     }
    },
    "colab_type": "code",
    "collapsed": true,
    "id": "y6IngfjUb4aA"
   },
   "outputs": [],
   "source": [
    "def translate(comment, language):\n",
    "    if hasattr(comment, \"decode\"):\n",
    "        comment = comment.decode(\"utf-8\")\n",
    "\n",
    "    text = TextBlob(comment)\n",
    "    try:\n",
    "        text = text.translate(to='de')\n",
    "        text = text.translate(to=language)\n",
    "        text = text.translate(to=\"en\")\n",
    "        text = re.sub(r'[\\W_]+', ' ', str(text))\n",
    "    except NotTranslated:\n",
    "        pass\n",
    "\n",
    "    return text"
   ]
  },
  {
   "cell_type": "code",
   "execution_count": 65,
   "metadata": {
    "colab": {
     "autoexec": {
      "startup": false,
      "wait_interval": 0
     },
     "base_uri": "https://localhost:8080/",
     "height": 503
    },
    "colab_type": "code",
    "id": "ddDkp2-vb4vu",
    "outputId": "4d7df23a-9abf-4b9d-c299-16b76fb056ab",
    "scrolled": true
   },
   "outputs": [],
   "source": [
    "dp = pd.DataFrame()\n",
    "df = ds[[\"comment_text\"]].copy()\n",
    "\n",
    "def upsample(comment):\n",
    "    global dp\n",
    "    tmp = []\n",
    "#     l = ['es', 'fr', 'it']\n",
    "    l = 'fr'\n",
    "    new_comment = translate(comment, l)\n",
    "#     tmp = tmp.append(new_comment)\n",
    "#     dp['fr'] = pd.concat([tmp, dp], axis=1)\n",
    "    return new_comment\n",
    "    \n",
    "        \n",
    "dp['fr'] = df.apply(lambda x: upsample(x[\"comment_text\"]), axis=1)"
   ]
  },
  {
   "cell_type": "code",
   "execution_count": 66,
   "metadata": {
    "scrolled": true
   },
   "outputs": [
    {
     "data": {
      "text/html": [
       "<div>\n",
       "<style>\n",
       "    .dataframe thead tr:only-child th {\n",
       "        text-align: right;\n",
       "    }\n",
       "\n",
       "    .dataframe thead th {\n",
       "        text-align: left;\n",
       "    }\n",
       "\n",
       "    .dataframe tbody tr th {\n",
       "        vertical-align: top;\n",
       "    }\n",
       "</style>\n",
       "<table border=\"1\" class=\"dataframe\">\n",
       "  <thead>\n",
       "    <tr style=\"text-align: right;\">\n",
       "      <th></th>\n",
       "      <th>fr</th>\n",
       "    </tr>\n",
       "  </thead>\n",
       "  <tbody>\n",
       "    <tr>\n",
       "      <th>6</th>\n",
       "      <td>Cocksucker before pissing on my job</td>\n",
       "    </tr>\n",
       "    <tr>\n",
       "      <th>12</th>\n",
       "      <td>Hey what is it what is it an exclusive group o...</td>\n",
       "    </tr>\n",
       "    <tr>\n",
       "      <th>16</th>\n",
       "      <td>Bye do not look do not come or do not think to...</td>\n",
       "    </tr>\n",
       "    <tr>\n",
       "      <th>42</th>\n",
       "      <td>you are gay or antisemitism Archangel meow whi...</td>\n",
       "    </tr>\n",
       "    <tr>\n",
       "      <th>43</th>\n",
       "      <td>Fuck your dirty mother in the ass</td>\n",
       "    </tr>\n",
       "    <tr>\n",
       "      <th>44</th>\n",
       "      <td>I m sorry I m sorry I m around me with someone...</td>\n",
       "    </tr>\n",
       "    <tr>\n",
       "      <th>51</th>\n",
       "      <td>Fuck it You re messed up I have a drink you ca...</td>\n",
       "    </tr>\n",
       "    <tr>\n",
       "      <th>55</th>\n",
       "      <td>Stupid peace of shit stop clearing my business...</td>\n",
       "    </tr>\n",
       "    <tr>\n",
       "      <th>56</th>\n",
       "      <td>Tony Sid is obviously a handful that he loves ...</td>\n",
       "    </tr>\n",
       "    <tr>\n",
       "      <th>58</th>\n",
       "      <td>thought deleting my page from the group I was ...</td>\n",
       "    </tr>\n",
       "    <tr>\n",
       "      <th>59</th>\n",
       "      <td>Why can not you believe how big Artie is did y...</td>\n",
       "    </tr>\n",
       "    <tr>\n",
       "      <th>65</th>\n",
       "      <td>All my changes are good chicks how to restore ...</td>\n",
       "    </tr>\n",
       "    <tr>\n",
       "      <th>79</th>\n",
       "      <td>hello I m back last warning stop stop my mount...</td>\n",
       "    </tr>\n",
       "    <tr>\n",
       "      <th>86</th>\n",
       "      <td>do you both want to shut up you do not have a ...</td>\n",
       "    </tr>\n",
       "    <tr>\n",
       "      <th>105</th>\n",
       "      <td>some jews hate weiner nazi schmooze</td>\n",
       "    </tr>\n",
       "    <tr>\n",
       "      <th>151</th>\n",
       "      <td>Was sorry but no one ever said Dick was the nu...</td>\n",
       "    </tr>\n",
       "    <tr>\n",
       "      <th>159</th>\n",
       "      <td>Unlock me or I ll bring my lawyers for blockin...</td>\n",
       "    </tr>\n",
       "    <tr>\n",
       "      <th>168</th>\n",
       "      <td>you should be fired you are a weak wimp too la...</td>\n",
       "    </tr>\n",
       "    <tr>\n",
       "      <th>176</th>\n",
       "      <td>I think you spread and burned a fag in hell I ...</td>\n",
       "    </tr>\n",
       "    <tr>\n",
       "      <th>181</th>\n",
       "      <td>You are a stupid fuck and your mother s pussy ...</td>\n",
       "    </tr>\n",
       "    <tr>\n",
       "      <th>201</th>\n",
       "      <td>Your blatant fist which none of you has pushed...</td>\n",
       "    </tr>\n",
       "    <tr>\n",
       "      <th>206</th>\n",
       "      <td>give me a thug block permanganate muslims reme...</td>\n",
       "    </tr>\n",
       "    <tr>\n",
       "      <th>211</th>\n",
       "      <td>Fuck you stupid pussy fagot</td>\n",
       "    </tr>\n",
       "    <tr>\n",
       "      <th>218</th>\n",
       "      <td>Kill all the Negroes that I have sternly that ...</td>\n",
       "    </tr>\n",
       "    <tr>\n",
       "      <th>231</th>\n",
       "      <td>Burn the deck if the D guy is like I think it ...</td>\n",
       "    </tr>\n",
       "    <tr>\n",
       "      <th>238</th>\n",
       "      <td>You are a bastard you gayie</td>\n",
       "    </tr>\n",
       "    <tr>\n",
       "      <th>268</th>\n",
       "      <td>Atheism is full of prejudices</td>\n",
       "    </tr>\n",
       "    <tr>\n",
       "      <th>278</th>\n",
       "      <td>Hey why are you spreading the misconceptions a...</td>\n",
       "    </tr>\n",
       "    <tr>\n",
       "      <th>286</th>\n",
       "      <td>and you will let me know if you have been drag...</td>\n",
       "    </tr>\n",
       "    <tr>\n",
       "      <th>295</th>\n",
       "      <td>This user is a worthless gay fucking fag</td>\n",
       "    </tr>\n",
       "    <tr>\n",
       "      <th>...</th>\n",
       "      <td>...</td>\n",
       "    </tr>\n",
       "    <tr>\n",
       "      <th>687</th>\n",
       "      <td>Ok stop being serious look at pokerface</td>\n",
       "    </tr>\n",
       "    <tr>\n",
       "      <th>698</th>\n",
       "      <td>I had no intention of being annoying I was rea...</td>\n",
       "    </tr>\n",
       "    <tr>\n",
       "      <th>700</th>\n",
       "      <td>dull when info sanchez will be online Monday a...</td>\n",
       "    </tr>\n",
       "    <tr>\n",
       "      <th>718</th>\n",
       "      <td>do not help the latest jeweler schneider warning</td>\n",
       "    </tr>\n",
       "    <tr>\n",
       "      <th>722</th>\n",
       "      <td>Do not sell your shit hate seeing another cont...</td>\n",
       "    </tr>\n",
       "    <tr>\n",
       "      <th>726</th>\n",
       "      <td>They are really a rebellious guy who rebels gu...</td>\n",
       "    </tr>\n",
       "    <tr>\n",
       "      <th>730</th>\n",
       "      <td>Of course a real dub will say he s gone or is ...</td>\n",
       "    </tr>\n",
       "    <tr>\n",
       "      <th>732</th>\n",
       "      <td>It s amazing how three Muslim men jumped on th...</td>\n",
       "    </tr>\n",
       "    <tr>\n",
       "      <th>737</th>\n",
       "      <td>I tried to be productive looking at my posts b...</td>\n",
       "    </tr>\n",
       "    <tr>\n",
       "      <th>746</th>\n",
       "      <td>You know I did not think anyone was really att...</td>\n",
       "    </tr>\n",
       "    <tr>\n",
       "      <th>756</th>\n",
       "      <td>Here is an idea to go fuck Cums Hitter</td>\n",
       "    </tr>\n",
       "    <tr>\n",
       "      <th>761</th>\n",
       "      <td>If my mother s safety fucking guarantee I hope...</td>\n",
       "    </tr>\n",
       "    <tr>\n",
       "      <th>802</th>\n",
       "      <td>fuck you smith please let me know when you die...</td>\n",
       "    </tr>\n",
       "    <tr>\n",
       "      <th>806</th>\n",
       "      <td>I crap on your face fucking you</td>\n",
       "    </tr>\n",
       "    <tr>\n",
       "      <th>807</th>\n",
       "      <td>You are so left behind</td>\n",
       "    </tr>\n",
       "    <tr>\n",
       "      <th>815</th>\n",
       "      <td>Sad fuck you I will restore my editing and you...</td>\n",
       "    </tr>\n",
       "    <tr>\n",
       "      <th>817</th>\n",
       "      <td>Pete s video game for love when I see these fa...</td>\n",
       "    </tr>\n",
       "    <tr>\n",
       "      <th>827</th>\n",
       "      <td>he loves tin muhammad ali s ass and kelly has ...</td>\n",
       "    </tr>\n",
       "    <tr>\n",
       "      <th>830</th>\n",
       "      <td>Shut up and stop</td>\n",
       "    </tr>\n",
       "    <tr>\n",
       "      <th>852</th>\n",
       "      <td>if you are a bartender</td>\n",
       "    </tr>\n",
       "    <tr>\n",
       "      <th>853</th>\n",
       "      <td>Ohio I m sorry I hurt your little feelings Let...</td>\n",
       "    </tr>\n",
       "    <tr>\n",
       "      <th>877</th>\n",
       "      <td>Go on you deadly scum</td>\n",
       "    </tr>\n",
       "    <tr>\n",
       "      <th>884</th>\n",
       "      <td>I suppose I neighbor great insult that any tho...</td>\n",
       "    </tr>\n",
       "    <tr>\n",
       "      <th>887</th>\n",
       "      <td>you fucker gay mother i know where you live i ...</td>\n",
       "    </tr>\n",
       "    <tr>\n",
       "      <th>888</th>\n",
       "      <td>ok Dennis Brown thank you for telling me that ...</td>\n",
       "    </tr>\n",
       "    <tr>\n",
       "      <th>925</th>\n",
       "      <td>Trachea is full of idiots who take money and p...</td>\n",
       "    </tr>\n",
       "    <tr>\n",
       "      <th>931</th>\n",
       "      <td>why do you seriously change the kiwi site of t...</td>\n",
       "    </tr>\n",
       "    <tr>\n",
       "      <th>934</th>\n",
       "      <td>transistor the transistor side has no principl...</td>\n",
       "    </tr>\n",
       "    <tr>\n",
       "      <th>952</th>\n",
       "      <td>you ve studied sucking cock stop calling me ok...</td>\n",
       "    </tr>\n",
       "    <tr>\n",
       "      <th>957</th>\n",
       "      <td>queen of fishermen would you please stop follo...</td>\n",
       "    </tr>\n",
       "  </tbody>\n",
       "</table>\n",
       "<p>100 rows × 1 columns</p>\n",
       "</div>"
      ],
      "text/plain": [
       "                                                    fr\n",
       "6                  Cocksucker before pissing on my job\n",
       "12   Hey what is it what is it an exclusive group o...\n",
       "16   Bye do not look do not come or do not think to...\n",
       "42   you are gay or antisemitism Archangel meow whi...\n",
       "43                   Fuck your dirty mother in the ass\n",
       "44   I m sorry I m sorry I m around me with someone...\n",
       "51   Fuck it You re messed up I have a drink you ca...\n",
       "55   Stupid peace of shit stop clearing my business...\n",
       "56   Tony Sid is obviously a handful that he loves ...\n",
       "58   thought deleting my page from the group I was ...\n",
       "59   Why can not you believe how big Artie is did y...\n",
       "65   All my changes are good chicks how to restore ...\n",
       "79   hello I m back last warning stop stop my mount...\n",
       "86   do you both want to shut up you do not have a ...\n",
       "105                some jews hate weiner nazi schmooze\n",
       "151  Was sorry but no one ever said Dick was the nu...\n",
       "159  Unlock me or I ll bring my lawyers for blockin...\n",
       "168  you should be fired you are a weak wimp too la...\n",
       "176  I think you spread and burned a fag in hell I ...\n",
       "181  You are a stupid fuck and your mother s pussy ...\n",
       "201  Your blatant fist which none of you has pushed...\n",
       "206  give me a thug block permanganate muslims reme...\n",
       "211                        Fuck you stupid pussy fagot\n",
       "218  Kill all the Negroes that I have sternly that ...\n",
       "231  Burn the deck if the D guy is like I think it ...\n",
       "238                       You are a bastard you gayie \n",
       "268                      Atheism is full of prejudices\n",
       "278  Hey why are you spreading the misconceptions a...\n",
       "286  and you will let me know if you have been drag...\n",
       "295           This user is a worthless gay fucking fag\n",
       "..                                                 ...\n",
       "687            Ok stop being serious look at pokerface\n",
       "698  I had no intention of being annoying I was rea...\n",
       "700  dull when info sanchez will be online Monday a...\n",
       "718   do not help the latest jeweler schneider warning\n",
       "722  Do not sell your shit hate seeing another cont...\n",
       "726  They are really a rebellious guy who rebels gu...\n",
       "730  Of course a real dub will say he s gone or is ...\n",
       "732  It s amazing how three Muslim men jumped on th...\n",
       "737  I tried to be productive looking at my posts b...\n",
       "746  You know I did not think anyone was really att...\n",
       "756             Here is an idea to go fuck Cums Hitter\n",
       "761  If my mother s safety fucking guarantee I hope...\n",
       "802  fuck you smith please let me know when you die...\n",
       "806                    I crap on your face fucking you\n",
       "807                             You are so left behind\n",
       "815  Sad fuck you I will restore my editing and you...\n",
       "817  Pete s video game for love when I see these fa...\n",
       "827  he loves tin muhammad ali s ass and kelly has ...\n",
       "830                                   Shut up and stop\n",
       "852                             if you are a bartender\n",
       "853  Ohio I m sorry I hurt your little feelings Let...\n",
       "877                              Go on you deadly scum\n",
       "884  I suppose I neighbor great insult that any tho...\n",
       "887  you fucker gay mother i know where you live i ...\n",
       "888  ok Dennis Brown thank you for telling me that ...\n",
       "925  Trachea is full of idiots who take money and p...\n",
       "931  why do you seriously change the kiwi site of t...\n",
       "934  transistor the transistor side has no principl...\n",
       "952  you ve studied sucking cock stop calling me ok...\n",
       "957  queen of fishermen would you please stop follo...\n",
       "\n",
       "[100 rows x 1 columns]"
      ]
     },
     "execution_count": 66,
     "metadata": {},
     "output_type": "execute_result"
    }
   ],
   "source": [
    "pd.DataFrame(dp)"
   ]
  },
  {
   "cell_type": "code",
   "execution_count": 67,
   "metadata": {
    "colab": {
     "autoexec": {
      "startup": false,
      "wait_interval": 0
     }
    },
    "colab_type": "code",
    "id": "qQU12mBBnV1M"
   },
   "outputs": [],
   "source": [
    "# Load the pretrained neural net\n",
    "tokenizer = nltk.data.load('../../../nltk_data/tokenizers/punkt/english.pickle')\n",
    "\n",
    "for text in dp[\"fr\"]:\n",
    "    output=\"\"\n",
    "    # Tokenize the text\n",
    "    tokenized = tokenizer.tokenize(text)\n",
    "\n",
    "    # Get the list of words from the entire text\n",
    "    words = word_tokenize(text)\n",
    "\n",
    "    # Identify the parts of speech\n",
    "    tagged = nltk.pos_tag(words)\n",
    "\n",
    "    for i in range(0,len(words)):\n",
    "        \n",
    "        replacements = []\n",
    "\n",
    "        # Only replace nouns with nouns, vowels with vowels etc.\n",
    "        for syn in wordnet.synsets(words[i]):\n",
    "\n",
    "            # Do not attempt to replace proper nouns or determiners\n",
    "            if tagged[i][1] == 'NNP' or tagged[i][1] == 'DT':\n",
    "                break\n",
    "\n",
    "            # The tokenizer returns strings like NNP, VBP etc\n",
    "            # but the wordnet synonyms has tags like .n.\n",
    "            # So we extract the first character from NNP ie n\n",
    "            # then we check if the dictionary word has a .n. or not \n",
    "            word_type = tagged[i][1][0].lower()\n",
    "            if syn.name().find(\".\"+word_type+\".\"):\n",
    "                # extract the word only\n",
    "                r = syn.name()[0:syn.name().find(\".\")]\n",
    "                replacements.append(r)\n",
    "\n",
    "        if len(replacements) > 0:\n",
    "            # Choose a random replacement\n",
    "            replacement = replacements[randint(0,len(replacements)-1)]\n",
    "            output = output + \" \" + replacement\n",
    "        else:\n",
    "            # If no replacement could be found, then just use the\n",
    "            # original word\n",
    "            output = output + \" \" + words[i]\n",
    "    \n",
    "    dp = dp.append(pd.Series({\"fr\":output}),ignore_index=True)"
   ]
  },
  {
   "cell_type": "code",
   "execution_count": 68,
   "metadata": {
    "colab": {
     "autoexec": {
      "startup": false,
      "wait_interval": 0
     }
    },
    "colab_type": "code",
    "id": "7VeMvBD7n5sY"
   },
   "outputs": [],
   "source": [
    "def tok_and_rem(x):\n",
    "    s = x.split()\n",
    "    l = list(s)\n",
    "    for word in s:\n",
    "        if (len(word) <= 2):\n",
    "            l.remove(word)\n",
    "        elif word in stopwords.words('english'):\n",
    "            l.remove(word)\n",
    "    return l\n",
    "\n",
    "dp['fr'] = dp['fr'].apply(lambda x: tok_and_rem(x))"
   ]
  },
  {
   "cell_type": "code",
   "execution_count": 69,
   "metadata": {
    "colab": {
     "autoexec": {
      "startup": false,
      "wait_interval": 0
     },
     "base_uri": "https://localhost:8080/",
     "height": 206
    },
    "colab_type": "code",
    "executionInfo": {
     "elapsed": 514,
     "status": "ok",
     "timestamp": 1524406980606,
     "user": {
      "displayName": "Anton Okhotnikov",
      "photoUrl": "https://lh3.googleusercontent.com/a/default-user=s128",
      "userId": "111886964614144141367"
     },
     "user_tz": -60
    },
    "id": "U7oSMCgxn6rq",
    "outputId": "6c52c197-878b-4716-9409-688036902da1"
   },
   "outputs": [
    {
     "data": {
      "text/plain": [
       "(200, 1)"
      ]
     },
     "execution_count": 69,
     "metadata": {},
     "output_type": "execute_result"
    }
   ],
   "source": [
    "dp.shape"
   ]
  },
  {
   "cell_type": "code",
   "execution_count": 70,
   "metadata": {
    "colab": {
     "autoexec": {
      "startup": false,
      "wait_interval": 0
     }
    },
    "colab_type": "code",
    "collapsed": true,
    "id": "YAMSRXhWyCzU"
   },
   "outputs": [],
   "source": [
    "dp.to_csv(\"toxic_french.csv\")"
   ]
  },
  {
   "cell_type": "code",
   "execution_count": null,
   "metadata": {
    "collapsed": true
   },
   "outputs": [],
   "source": []
  }
 ],
 "metadata": {
  "colab": {
   "collapsed_sections": [],
   "default_view": {},
   "name": "upsampling.ipynb",
   "provenance": [],
   "version": "0.3.2",
   "views": {}
  },
  "kernelspec": {
   "display_name": "Python 3",
   "language": "python",
   "name": "python3"
  },
  "language_info": {
   "codemirror_mode": {
    "name": "ipython",
    "version": 3
   },
   "file_extension": ".py",
   "mimetype": "text/x-python",
   "name": "python",
   "nbconvert_exporter": "python",
   "pygments_lexer": "ipython3",
   "version": "3.6.2"
  }
 },
 "nbformat": 4,
 "nbformat_minor": 1
}
