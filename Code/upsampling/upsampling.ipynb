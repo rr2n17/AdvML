{
  "nbformat": 4,
  "nbformat_minor": 0,
  "metadata": {
    "colab": {
      "name": "upsampling.ipynb",
      "version": "0.3.2",
      "views": {},
      "default_view": {},
      "provenance": [],
      "collapsed_sections": []
    },
    "kernelspec": {
      "name": "python2",
      "display_name": "Python 2"
    }
  },
  "cells": [
    {
      "metadata": {
        "id": "GfI4uspYeTmK",
        "colab_type": "code",
        "colab": {
          "autoexec": {
            "startup": false,
            "wait_interval": 0
          }
        }
      },
      "cell_type": "code",
      "source": [
        "# !git clone https://github.com/rr2n17/AdvML.git"
      ],
      "execution_count": 0,
      "outputs": []
    },
    {
      "metadata": {
        "id": "DKO2N7kTfQmW",
        "colab_type": "code",
        "colab": {
          "autoexec": {
            "startup": false,
            "wait_interval": 0
          },
          "base_uri": "https://localhost:8080/",
          "height": 34
        },
        "outputId": "f53b1ba8-f1c5-4731-c495-76dab5e9c12b",
        "executionInfo": {
          "status": "ok",
          "timestamp": 1524403039064,
          "user_tz": -60,
          "elapsed": 1714,
          "user": {
            "displayName": "Anton Okhotnikov",
            "photoUrl": "https://lh3.googleusercontent.com/a/default-user=s128",
            "userId": "111886964614144141367"
          }
        }
      },
      "cell_type": "code",
      "source": [
        "!ls"
      ],
      "execution_count": 34,
      "outputs": [
        {
          "output_type": "stream",
          "text": [
            "AdvML  datalab\r\n"
          ],
          "name": "stdout"
        }
      ]
    },
    {
      "metadata": {
        "id": "dGP2vCLyaiMQ",
        "colab_type": "text"
      },
      "cell_type": "markdown",
      "source": [
        "## Install libraries"
      ]
    },
    {
      "metadata": {
        "id": "mrOpEu2uWfjI",
        "colab_type": "code",
        "colab": {
          "autoexec": {
            "startup": false,
            "wait_interval": 0
          }
        }
      },
      "cell_type": "code",
      "source": [
        "# !pip install --upgrade pip\n",
        "# !pip install nltk\n",
        "# !apt-get install libenchant1c2a\n",
        "# !pip install pyenchant\n",
        "# !pip install joblib textblob -U"
      ],
      "execution_count": 0,
      "outputs": []
    },
    {
      "metadata": {
        "id": "LS6HAG0sYkTy",
        "colab_type": "code",
        "colab": {
          "autoexec": {
            "startup": false,
            "wait_interval": 0
          }
        }
      },
      "cell_type": "code",
      "source": [
        "import pandas as pd\n",
        "from nltk.corpus import wordnet, stopwords\n",
        "from nltk.tokenize import word_tokenize\n",
        "from random import randint\n",
        "import nltk.data\n",
        "from nltk.tokenize import TreebankWordTokenizer\n",
        "import re\n",
        "import enchant\n",
        "from enchant.checker import SpellChecker\n",
        "from joblib import Parallel, delayed\n",
        "from textblob import TextBlob\n",
        "from textblob.translate import NotTranslated"
      ],
      "execution_count": 0,
      "outputs": []
    },
    {
      "metadata": {
        "id": "tax-9UqIqo5S",
        "colab_type": "code",
        "colab": {
          "autoexec": {
            "startup": false,
            "wait_interval": 0
          }
        }
      },
      "cell_type": "code",
      "source": [
        "# nltk.download(\"averaged_perceptron_tagger\")\n",
        "# nltk.download(\"wordnet\")\n",
        "# nltk.download('punkt')\n",
        "# nltk.download('stopwords')"
      ],
      "execution_count": 0,
      "outputs": []
    },
    {
      "metadata": {
        "id": "05VDJMTzYIvK",
        "colab_type": "text"
      },
      "cell_type": "markdown",
      "source": [
        "## Read data"
      ]
    },
    {
      "metadata": {
        "id": "nH8hl60SW9VY",
        "colab_type": "code",
        "colab": {
          "autoexec": {
            "startup": false,
            "wait_interval": 0
          },
          "base_uri": "https://localhost:8080/",
          "height": 206
        },
        "outputId": "c55d7b3d-85ba-4453-e819-986df97b2608",
        "executionInfo": {
          "status": "ok",
          "timestamp": 1524407312996,
          "user_tz": -60,
          "elapsed": 1782,
          "user": {
            "displayName": "Anton Okhotnikov",
            "photoUrl": "https://lh3.googleusercontent.com/a/default-user=s128",
            "userId": "111886964614144141367"
          }
        }
      },
      "cell_type": "code",
      "source": [
        "path = \"AdvML/Datasets/rawData/train.csv\"\n",
        "dataset = pd.read_csv(path)\n",
        "dataset.head()"
      ],
      "execution_count": 129,
      "outputs": [
        {
          "output_type": "execute_result",
          "data": {
            "text/html": [
              "<div>\n",
              "<style scoped>\n",
              "    .dataframe tbody tr th:only-of-type {\n",
              "        vertical-align: middle;\n",
              "    }\n",
              "\n",
              "    .dataframe tbody tr th {\n",
              "        vertical-align: top;\n",
              "    }\n",
              "\n",
              "    .dataframe thead th {\n",
              "        text-align: right;\n",
              "    }\n",
              "</style>\n",
              "<table border=\"1\" class=\"dataframe\">\n",
              "  <thead>\n",
              "    <tr style=\"text-align: right;\">\n",
              "      <th></th>\n",
              "      <th>id</th>\n",
              "      <th>comment_text</th>\n",
              "      <th>toxic</th>\n",
              "      <th>severe_toxic</th>\n",
              "      <th>obscene</th>\n",
              "      <th>threat</th>\n",
              "      <th>insult</th>\n",
              "      <th>identity_hate</th>\n",
              "    </tr>\n",
              "  </thead>\n",
              "  <tbody>\n",
              "    <tr>\n",
              "      <th>0</th>\n",
              "      <td>0000997932d777bf</td>\n",
              "      <td>Explanation\\nWhy the edits made under my usern...</td>\n",
              "      <td>0</td>\n",
              "      <td>0</td>\n",
              "      <td>0</td>\n",
              "      <td>0</td>\n",
              "      <td>0</td>\n",
              "      <td>0</td>\n",
              "    </tr>\n",
              "    <tr>\n",
              "      <th>1</th>\n",
              "      <td>000103f0d9cfb60f</td>\n",
              "      <td>D'aww! He matches this background colour I'm s...</td>\n",
              "      <td>0</td>\n",
              "      <td>0</td>\n",
              "      <td>0</td>\n",
              "      <td>0</td>\n",
              "      <td>0</td>\n",
              "      <td>0</td>\n",
              "    </tr>\n",
              "    <tr>\n",
              "      <th>2</th>\n",
              "      <td>000113f07ec002fd</td>\n",
              "      <td>Hey man, I'm really not trying to edit war. It...</td>\n",
              "      <td>0</td>\n",
              "      <td>0</td>\n",
              "      <td>0</td>\n",
              "      <td>0</td>\n",
              "      <td>0</td>\n",
              "      <td>0</td>\n",
              "    </tr>\n",
              "    <tr>\n",
              "      <th>3</th>\n",
              "      <td>0001b41b1c6bb37e</td>\n",
              "      <td>\"\\nMore\\nI can't make any real suggestions on ...</td>\n",
              "      <td>0</td>\n",
              "      <td>0</td>\n",
              "      <td>0</td>\n",
              "      <td>0</td>\n",
              "      <td>0</td>\n",
              "      <td>0</td>\n",
              "    </tr>\n",
              "    <tr>\n",
              "      <th>4</th>\n",
              "      <td>0001d958c54c6e35</td>\n",
              "      <td>You, sir, are my hero. Any chance you remember...</td>\n",
              "      <td>0</td>\n",
              "      <td>0</td>\n",
              "      <td>0</td>\n",
              "      <td>0</td>\n",
              "      <td>0</td>\n",
              "      <td>0</td>\n",
              "    </tr>\n",
              "  </tbody>\n",
              "</table>\n",
              "</div>"
            ],
            "text/plain": [
              "                 id                                       comment_text  toxic  \\\n",
              "0  0000997932d777bf  Explanation\\nWhy the edits made under my usern...      0   \n",
              "1  000103f0d9cfb60f  D'aww! He matches this background colour I'm s...      0   \n",
              "2  000113f07ec002fd  Hey man, I'm really not trying to edit war. It...      0   \n",
              "3  0001b41b1c6bb37e  \"\\nMore\\nI can't make any real suggestions on ...      0   \n",
              "4  0001d958c54c6e35  You, sir, are my hero. Any chance you remember...      0   \n",
              "\n",
              "   severe_toxic  obscene  threat  insult  identity_hate  \n",
              "0             0        0       0       0              0  \n",
              "1             0        0       0       0              0  \n",
              "2             0        0       0       0              0  \n",
              "3             0        0       0       0              0  \n",
              "4             0        0       0       0              0  "
            ]
          },
          "metadata": {
            "tags": []
          },
          "execution_count": 129
        }
      ]
    },
    {
      "metadata": {
        "id": "xWDnxj8bm_gm",
        "colab_type": "text"
      },
      "cell_type": "markdown",
      "source": [
        "## Upsample"
      ]
    },
    {
      "metadata": {
        "id": "5JolGACka3jW",
        "colab_type": "code",
        "colab": {
          "autoexec": {
            "startup": false,
            "wait_interval": 0
          }
        }
      },
      "cell_type": "code",
      "source": [
        "ds = dataset[dataset['toxic'] == 1]\n",
        "ds = ds[['comment_text', 'toxic']][70:110]\n",
        "\n",
        "tokenizer = TreebankWordTokenizer()\n",
        "chkr = SpellChecker(\"en_UK\", \"en_US\")\n",
        "\n",
        "def low(x):\n",
        "    # spelling checker\n",
        "    x = re.sub(r'[\\W_]+', ' ', x)\n",
        "    chkr.set_text(x)\n",
        "    for err in chkr:\n",
        "        if len(err.suggest()) > 0:\n",
        "            sug = err.suggest()[0]\n",
        "            err.replace(sug)\n",
        "            x = chkr.get_text()\n",
        "    \n",
        "    return x.lower()\n",
        "\n",
        "\n",
        "ds['comment_text'] = ds['comment_text'].apply(lambda x: low(x))"
      ],
      "execution_count": 0,
      "outputs": []
    },
    {
      "metadata": {
        "id": "y6IngfjUb4aA",
        "colab_type": "code",
        "colab": {
          "autoexec": {
            "startup": false,
            "wait_interval": 0
          }
        }
      },
      "cell_type": "code",
      "source": [
        "def translate(comment, language):\n",
        "    if hasattr(comment, \"decode\"):\n",
        "        comment = comment.decode(\"utf-8\")\n",
        "\n",
        "    text = TextBlob(comment)\n",
        "    try:\n",
        "#         text = text.translate(to='de')\n",
        "        text = text.translate(to=language)\n",
        "        text = text.translate(to=\"en\")\n",
        "    except NotTranslated:\n",
        "        pass\n",
        "\n",
        "    return str(text)"
      ],
      "execution_count": 0,
      "outputs": []
    },
    {
      "metadata": {
        "id": "ddDkp2-vb4vu",
        "colab_type": "code",
        "colab": {
          "autoexec": {
            "startup": false,
            "wait_interval": 0
          },
          "base_uri": "https://localhost:8080/",
          "height": 503
        },
        "outputId": "4d7df23a-9abf-4b9d-c299-16b76fb056ab"
      },
      "cell_type": "code",
      "source": [
        "dp = ds[[\"comment_text\", \"toxic\"]].copy()\n",
        "df = ds[[\"comment_text\", \"toxic\"]].copy()\n",
        "\n",
        "i = 0\n",
        "\n",
        "def upsample(comment, label):\n",
        "    global dp, i\n",
        "    l = ['es', 'fr', 'it']\n",
        "    for language in l:\n",
        "        new_comment = translate(comment, language)\n",
        "        dp = dp.append(pd.Series({\"comment_text\":new_comment, \"toxic\":label}), ignore_index=True)\n",
        "    print(i)\n",
        "    i += 1\n",
        "        \n",
        "df.apply(lambda x: upsample(x[\"comment_text\"], x[\"toxic\"]), axis=1)\n",
        "print(dp.head())"
      ],
      "execution_count": 0,
      "outputs": [
        {
          "output_type": "stream",
          "text": [
            "0\n",
            "1\n",
            "2\n",
            "3\n",
            "4\n",
            "5\n",
            "6\n",
            "7\n",
            "8\n",
            "9\n",
            "10\n",
            "11\n",
            "12\n",
            "13\n",
            "14\n",
            "15\n",
            "16\n",
            "17\n",
            "18\n",
            "19\n",
            "20\n",
            "21\n",
            "22\n",
            "23\n",
            "24\n",
            "25\n",
            "26\n",
            "27\n"
          ],
          "name": "stdout"
        }
      ]
    },
    {
      "metadata": {
        "id": "qQU12mBBnV1M",
        "colab_type": "code",
        "colab": {
          "autoexec": {
            "startup": false,
            "wait_interval": 0
          }
        }
      },
      "cell_type": "code",
      "source": [
        "# Load the pretrained neural net\n",
        "tokenizer = nltk.data.load('../../../nltk_data/tokenizers/punkt/english.pickle')\n",
        "\n",
        "\n",
        "for text in dp[\"comment_text\"]:\n",
        "    output=\"\"\n",
        "    # Tokenize the text\n",
        "    tokenized = tokenizer.tokenize(text)\n",
        "\n",
        "    # Get the list of words from the entire text\n",
        "    words = word_tokenize(text)\n",
        "\n",
        "    # Identify the parts of speech\n",
        "    tagged = nltk.pos_tag(words)\n",
        "\n",
        "    for i in range(0,len(words)):\n",
        "        \n",
        "        replacements = []\n",
        "\n",
        "        # Only replace nouns with nouns, vowels with vowels etc.\n",
        "        for syn in wordnet.synsets(words[i]):\n",
        "\n",
        "            # Do not attempt to replace proper nouns or determiners\n",
        "            if tagged[i][1] == 'NNP' or tagged[i][1] == 'DT':\n",
        "                break\n",
        "\n",
        "            # The tokenizer returns strings like NNP, VBP etc\n",
        "            # but the wordnet synonyms has tags like .n.\n",
        "            # So we extract the first character from NNP ie n\n",
        "            # then we check if the dictionary word has a .n. or not \n",
        "            word_type = tagged[i][1][0].lower()\n",
        "            if syn.name().find(\".\"+word_type+\".\"):\n",
        "                # extract the word only\n",
        "                r = syn.name()[0:syn.name().find(\".\")]\n",
        "                replacements.append(r)\n",
        "\n",
        "        if len(replacements) > 0:\n",
        "            # Choose a random replacement\n",
        "            replacement = replacements[randint(0,len(replacements)-1)]\n",
        "            output = output + \" \" + replacement\n",
        "        else:\n",
        "            # If no replacement could be found, then just use the\n",
        "            # original word\n",
        "            output = output + \" \" + words[i]\n",
        "    \n",
        "    dp = dp.append(pd.Series({\"comment_text\":output,\"toxic\":1}),ignore_index=True)"
      ],
      "execution_count": 0,
      "outputs": []
    },
    {
      "metadata": {
        "id": "7VeMvBD7n5sY",
        "colab_type": "code",
        "colab": {
          "autoexec": {
            "startup": false,
            "wait_interval": 0
          }
        }
      },
      "cell_type": "code",
      "source": [
        "def tok_and_rem(x):\n",
        "    s = x.split()\n",
        "    l = list(s)\n",
        "    for word in s:\n",
        "        if (len(word) <= 2):\n",
        "            l.remove(word)\n",
        "        elif word in stopwords.words('english'):\n",
        "            l.remove(word)\n",
        "    return l\n",
        "\n",
        "dp['comment_text'] = dp['comment_text'].apply(lambda x: tok_and_rem(x))"
      ],
      "execution_count": 0,
      "outputs": []
    },
    {
      "metadata": {
        "id": "U7oSMCgxn6rq",
        "colab_type": "code",
        "colab": {
          "autoexec": {
            "startup": false,
            "wait_interval": 0
          },
          "base_uri": "https://localhost:8080/",
          "height": 206
        },
        "outputId": "6c52c197-878b-4716-9409-688036902da1",
        "executionInfo": {
          "status": "ok",
          "timestamp": 1524406980606,
          "user_tz": -60,
          "elapsed": 514,
          "user": {
            "displayName": "Anton Okhotnikov",
            "photoUrl": "https://lh3.googleusercontent.com/a/default-user=s128",
            "userId": "111886964614144141367"
          }
        }
      },
      "cell_type": "code",
      "source": [
        "dp.head()"
      ],
      "execution_count": 118,
      "outputs": [
        {
          "output_type": "execute_result",
          "data": {
            "text/html": [
              "<div>\n",
              "<style scoped>\n",
              "    .dataframe tbody tr th:only-of-type {\n",
              "        vertical-align: middle;\n",
              "    }\n",
              "\n",
              "    .dataframe tbody tr th {\n",
              "        vertical-align: top;\n",
              "    }\n",
              "\n",
              "    .dataframe thead th {\n",
              "        text-align: right;\n",
              "    }\n",
              "</style>\n",
              "<table border=\"1\" class=\"dataframe\">\n",
              "  <thead>\n",
              "    <tr style=\"text-align: right;\">\n",
              "      <th></th>\n",
              "      <th>comment_text</th>\n",
              "      <th>toxic</th>\n",
              "    </tr>\n",
              "  </thead>\n",
              "  <tbody>\n",
              "    <tr>\n",
              "      <th>0</th>\n",
              "      <td>[cocksucker, piss, around, work]</td>\n",
              "      <td>1</td>\n",
              "    </tr>\n",
              "    <tr>\n",
              "      <th>1</th>\n",
              "      <td>[hey, talk, exclusive, group, tali, bans, good...</td>\n",
              "      <td>1</td>\n",
              "    </tr>\n",
              "    <tr>\n",
              "      <th>2</th>\n",
              "      <td>[bye, look, come, think, coming, back, tosser]</td>\n",
              "      <td>1</td>\n",
              "    </tr>\n",
              "    <tr>\n",
              "      <th>3</th>\n",
              "      <td>[gay, antisemitic, archangel, white, tiger, me...</td>\n",
              "      <td>1</td>\n",
              "    </tr>\n",
              "    <tr>\n",
              "      <th>4</th>\n",
              "      <td>[fuck, filthy, mother, ass, dry]</td>\n",
              "      <td>1</td>\n",
              "    </tr>\n",
              "  </tbody>\n",
              "</table>\n",
              "</div>"
            ],
            "text/plain": [
              "                                        comment_text  toxic\n",
              "0                   [cocksucker, piss, around, work]      1\n",
              "1  [hey, talk, exclusive, group, tali, bans, good...      1\n",
              "2     [bye, look, come, think, coming, back, tosser]      1\n",
              "3  [gay, antisemitic, archangel, white, tiger, me...      1\n",
              "4                   [fuck, filthy, mother, ass, dry]      1"
            ]
          },
          "metadata": {
            "tags": []
          },
          "execution_count": 118
        }
      ]
    },
    {
      "metadata": {
        "id": "YAMSRXhWyCzU",
        "colab_type": "code",
        "colab": {
          "autoexec": {
            "startup": false,
            "wait_interval": 0
          }
        }
      },
      "cell_type": "code",
      "source": [
        ""
      ],
      "execution_count": 0,
      "outputs": []
    }
  ]
}