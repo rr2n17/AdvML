{
 "cells": [
  {
   "cell_type": "code",
   "execution_count": 9,
   "metadata": {
    "collapsed": true
   },
   "outputs": [],
   "source": [
    "import numpy as np\n",
    "import pandas as pd\n",
    "\n",
    "from sklearn.feature_extraction.text import TfidfVectorizer,CountVectorizer\n",
    "from sklearn.ensemble import RandomForestClassifier\n",
    "from sklearn.model_selection import cross_val_score\n",
    "from scipy.sparse import hstack\n",
    "from scipy.special import logit, expit"
   ]
  },
  {
   "cell_type": "code",
   "execution_count": 12,
   "metadata": {
    "collapsed": true
   },
   "outputs": [],
   "source": [
    "class_names = ['toxic', 'severe_toxic', 'obscene', 'threat', 'insult', 'identity_hate']\n",
    "\n",
    "train = pd.read_csv('../Datasets/rawData/train.csv').fillna(' ')\n",
    "test = pd.read_csv('../Datasets/rawData/test.csv').fillna(' ')\n"
   ]
  },
  {
   "cell_type": "code",
   "execution_count": 14,
   "metadata": {},
   "outputs": [],
   "source": [
    "from sklearn.utils import resample\n",
    "\n",
    "# Separate majority and minority classes\n",
    "dataset_majority = train[train.toxic == 0]\n",
    "dataset_minority = train[train.toxic == 1]\n",
    " \n",
    "# # Upsample minority class\n",
    "# dataset_minority_upsampled = resample(dataset_minority, \n",
    "#                                  replace = True,  # sample with replacement\n",
    "#                                  n_samples = 144277,   # to match majority class\n",
    "#                                  random_state = 123) # reproducible results\n",
    " \n",
    "# # Combine majority class with upsampled minority class\n",
    "# dataset_upsampled = pd.concat([dataset_majority, dataset_minority_upsampled])\n",
    " \n",
    "# # Display new class counts\n",
    "# dataset_upsampled.toxic.value_counts()\n",
    "\n",
    "# Downsample majority class\n",
    "dataset_majority_downsampled = resample(dataset_majority, replace = True, n_samples = len(dataset_minority),\n",
    "                                        random_state = 123)\n",
    "\n",
    "# Combine two classes\n",
    "dataset_ds = pd.concat([dataset_minority, dataset_majority_downsampled])\n",
    "\n",
    "# Shuffle dataset\n",
    "dataset_ds = dataset_ds.sample(frac=1).reset_index(drop=True)"
   ]
  },
  {
   "cell_type": "code",
   "execution_count": 27,
   "metadata": {},
   "outputs": [],
   "source": [
    "train_text = dataset_ds\n",
    "train_lables = train_text\n",
    "train_text = train_text['comment_text']\n",
    "test_text = test['comment_text']"
   ]
  },
  {
   "cell_type": "code",
   "execution_count": 28,
   "metadata": {},
   "outputs": [
    {
     "data": {
      "text/plain": [
       "0    Hi. Yes, I'd noticed. It's always gratifing to...\n",
       "1    Bodish peoples?\\r\\nAre there Bodish PEOPLES? I...\n",
       "2                REDIRECT Talk:George H. D. Gossip/GA1\n",
       "3                       It's joke? What the hell test?\n",
       "4    November 2006 (UTC)\\r\\n\\r\\n Now listen here yo...\n",
       "Name: comment_text, dtype: object"
      ]
     },
     "execution_count": 28,
     "metadata": {},
     "output_type": "execute_result"
    }
   ],
   "source": [
    "train_text.head()"
   ]
  },
  {
   "cell_type": "code",
   "execution_count": 29,
   "metadata": {},
   "outputs": [],
   "source": [
    "all_text = pd.concat([train_text, test_text])"
   ]
  },
  {
   "cell_type": "code",
   "execution_count": 30,
   "metadata": {},
   "outputs": [],
   "source": [
    "# word vectorizer\n",
    "word_vectorizer = CountVectorizer(stop_words = 'english',analyzer='word')\n",
    "word_vectorizer.fit(all_text)\n",
    "train_word_features = word_vectorizer.transform(train_text)\n",
    "test_word_features = word_vectorizer.transform(test_text)"
   ]
  },
  {
   "cell_type": "code",
   "execution_count": 31,
   "metadata": {
    "collapsed": true
   },
   "outputs": [],
   "source": [
    "# character vectorizer\n",
    "char_vectorizer = CountVectorizer(stop_words = 'english',analyzer='char')\n",
    "char_vectorizer.fit(all_text)\n",
    "train_char_features = char_vectorizer.transform(train_text)\n",
    "test_char_features = char_vectorizer.transform(test_text)"
   ]
  },
  {
   "cell_type": "code",
   "execution_count": 32,
   "metadata": {
    "collapsed": true
   },
   "outputs": [],
   "source": [
    "train_features = hstack([train_char_features, train_word_features])\n",
    "test_features = hstack([test_char_features, test_word_features])"
   ]
  },
  {
   "cell_type": "code",
   "execution_count": 33,
   "metadata": {},
   "outputs": [
    {
     "name": "stdout",
     "output_type": "stream",
     "text": [
      "CV score for class toxic is 0.7725578658297372\n",
      "CV score for class severe_toxic is 0.9482149731126538\n",
      "CV score for class obscene is 0.812507870514537\n",
      "CV score for class threat is 0.9851902706943899\n",
      "CV score for class insult is 0.7869425918660912\n",
      "CV score for class identity_hate is 0.9571727504145446\n",
      "Total CV score is 0.8770977204053256\n"
     ]
    }
   ],
   "source": [
    "losses = []\n",
    "predictions = {'id': test['id']}\n",
    "for class_name in class_names:\n",
    "    train_target = train_lables[class_name]\n",
    "    classifier = RandomForestClassifier(bootstrap=True, class_weight=None, criterion='gini',\n",
    "            max_depth=100, max_features=1000, max_leaf_nodes=None,\n",
    "            min_impurity_decrease=0.0, min_impurity_split=None,\n",
    "            min_samples_leaf=3, min_samples_split=10,\n",
    "            min_weight_fraction_leaf=0.0, n_estimators=10, n_jobs=1,\n",
    "            oob_score=False, random_state=None, verbose=0,\n",
    "            warm_start=False)\n",
    "\n",
    "    cv_loss = np.mean(cross_val_score(classifier, train_features, train_target, cv=3, scoring='f1_micro'))\n",
    "    losses.append(cv_loss)\n",
    "    print('CV score for class {} is {}'.format(class_name, cv_loss))\n",
    "\n",
    "    classifier.fit(train_features, train_target)\n",
    "    predictions[class_name] = expit(logit(classifier.predict_proba(test_features)[:, 1]))\n",
    "\n",
    "print('Total CV score is {}'.format(np.mean(losses)))"
   ]
  },
  {
   "cell_type": "code",
   "execution_count": null,
   "metadata": {
    "collapsed": true
   },
   "outputs": [],
   "source": []
  }
 ],
 "metadata": {
  "kernelspec": {
   "display_name": "Python 3",
   "language": "python",
   "name": "python3"
  },
  "language_info": {
   "codemirror_mode": {
    "name": "ipython",
    "version": 3
   },
   "file_extension": ".py",
   "mimetype": "text/x-python",
   "name": "python",
   "nbconvert_exporter": "python",
   "pygments_lexer": "ipython3",
   "version": "3.6.2"
  }
 },
 "nbformat": 4,
 "nbformat_minor": 2
}
