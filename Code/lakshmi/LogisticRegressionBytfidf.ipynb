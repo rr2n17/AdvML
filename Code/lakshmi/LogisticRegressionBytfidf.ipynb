{
 "cells": [
  {
   "cell_type": "code",
   "execution_count": 203,
   "metadata": {},
   "outputs": [],
   "source": [
    "from collections import Counter\n",
    "from sklearn.datasets import make_classification\n",
    "from imblearn.over_sampling import SMOTE\n",
    "import pandas as pd\n",
    "from sklearn import metrics\n",
    "from sklearn.model_selection import train_test_split\n",
    "from sklearn.preprocessing import normalize\n",
    "from sklearn.preprocessing import StandardScaler"
   ]
  },
  {
   "cell_type": "code",
   "execution_count": 204,
   "metadata": {},
   "outputs": [
    {
     "name": "stdout",
     "output_type": "stream",
     "text": [
      "Number of rows and columns in the train data set: (159571, 8)\n",
      "Number of rows and columns in the test data set: (153164, 2)\n"
     ]
    }
   ],
   "source": [
    "path = '../Datasets/rawData/'\n",
    "train = pd.read_csv(path+'train.csv')\n",
    "test = pd.read_csv(path+'test.csv')\n",
    "print('Number of rows and columns in the train data set:',train.shape)\n",
    "print('Number of rows and columns in the test data set:',test.shape)"
   ]
  },
  {
   "cell_type": "code",
   "execution_count": 205,
   "metadata": {},
   "outputs": [],
   "source": [
    "# fig,ax = plt.subplots(2,3,figsize=(16,10))\n",
    "# ax1,ax2,ax3,ax4,ax5,ax6 = ax.flatten()\n",
    "# sns.countplot(train['toxic'],palette= 'RdBu',ax=ax1)\n",
    "# sns.countplot(train['severe_toxic'], palette= 'viridis',ax=ax2)\n",
    "# sns.countplot(train['obscene'], palette= 'Set1',ax=ax3)\n",
    "# sns.countplot(train['threat'], palette= 'viridis',ax = ax4)\n",
    "# sns.countplot(train['insult'], palette = 'magma',ax=ax5)\n",
    "# sns.countplot(train['identity_hate'], palette = 'Set1', ax = ax6)"
   ]
  },
  {
   "cell_type": "code",
   "execution_count": 206,
   "metadata": {},
   "outputs": [],
   "source": [
    "from sklearn.utils import resample\n",
    "\n",
    "# Separate majority and minority classes\n",
    "dataset_majority = train[train.toxic == 0]\n",
    "dataset_minority = train[train.toxic == 1]\n",
    " \n",
    "# # Upsample minority class\n",
    "# dataset_minority_upsampled = resample(dataset_minority, \n",
    "#                                  replace = True,  # sample with replacement\n",
    "#                                  n_samples = 144277,   # to match majority class\n",
    "#                                  random_state = 123) # reproducible results\n",
    " \n",
    "# # Combine majority class with upsampled minority class\n",
    "# dataset_upsampled = pd.concat([dataset_majority, dataset_minority_upsampled])\n",
    " \n",
    "# # Display new class counts\n",
    "# dataset_upsampled.toxic.value_counts()\n",
    "\n",
    "# Downsample majority class\n",
    "dataset_majority_downsampled = resample(dataset_majority, replace = True, n_samples = len(dataset_minority),\n",
    "                                        random_state = 123)\n",
    "\n",
    "# Combine two classes\n",
    "dataset_ds = pd.concat([dataset_minority, dataset_majority_downsampled])\n",
    "\n",
    "# Shuffle dataset\n",
    "dataset_ds = dataset_ds.sample(frac=1).reset_index(drop=True)"
   ]
  },
  {
   "cell_type": "code",
   "execution_count": 207,
   "metadata": {},
   "outputs": [
    {
     "data": {
      "text/plain": [
       "(30588, 8)"
      ]
     },
     "execution_count": 207,
     "metadata": {},
     "output_type": "execute_result"
    }
   ],
   "source": [
    "dataset_ds.shape"
   ]
  },
  {
   "cell_type": "code",
   "execution_count": 208,
   "metadata": {
    "collapsed": true
   },
   "outputs": [],
   "source": [
    "# preprocessing\n",
    "vect_word = TfidfVectorizer(max_features=20000, lowercase=True, analyzer='word',\n",
    "                        stop_words= 'english',ngram_range=(1,3),dtype=np.float32)\n",
    "vect_char = TfidfVectorizer(max_features=40000, lowercase=True, analyzer='char',\n",
    "                        stop_words= 'english',ngram_range=(3,6),dtype=np.float32)"
   ]
  },
  {
   "cell_type": "code",
   "execution_count": 209,
   "metadata": {},
   "outputs": [
    {
     "data": {
      "text/plain": [
       "(30588, 20000)"
      ]
     },
     "execution_count": 209,
     "metadata": {},
     "output_type": "execute_result"
    }
   ],
   "source": [
    "tr_vect.shape"
   ]
  },
  {
   "cell_type": "code",
   "execution_count": 210,
   "metadata": {
    "collapsed": true
   },
   "outputs": [],
   "source": [
    "tr_vect = vect_word.fit_transform(dataset_ds['comment_text'])\n",
    "ts_vect = vect_word.transform(test['comment_text'])"
   ]
  },
  {
   "cell_type": "code",
   "execution_count": 211,
   "metadata": {},
   "outputs": [],
   "source": [
    "# print('before', tr_vect)\n",
    "# tr_vect = normalize(tr_vect, norm = 'l2', axis = 0)\n",
    "# print('after', tr_vect1)"
   ]
  },
  {
   "cell_type": "code",
   "execution_count": 212,
   "metadata": {},
   "outputs": [],
   "source": [
    "X = sparse.hstack([tr_vect])\n",
    "x_test = sparse.hstack([ts_vect])"
   ]
  },
  {
   "cell_type": "code",
   "execution_count": 213,
   "metadata": {},
   "outputs": [
    {
     "name": "stdout",
     "output_type": "stream",
     "text": [
      "X shape (30588, 20000)\n",
      "y shape (30588, 6)\n"
     ]
    }
   ],
   "source": [
    "target_col = ['toxic', 'severe_toxic', 'obscene', 'threat','insult', 'identity_hate']\n",
    "y = dataset_ds[target_col]\n",
    "print('X shape', X.shape)\n",
    "print('y shape', y.shape)"
   ]
  },
  {
   "cell_type": "code",
   "execution_count": 214,
   "metadata": {},
   "outputs": [
    {
     "name": "stdout",
     "output_type": "stream",
     "text": [
      "x_train =  (20493, 20000)\n",
      "X_test =  (10095, 20000)\n",
      "y_train= (20493, 6)\n",
      "y_test (10095, 6)\n"
     ]
    }
   ],
   "source": [
    "# train splitting\n",
    "X_train, X_test, y_train, y_test = train_test_split(X, y, test_size=0.33, random_state=42)\n",
    "print('x_train = ', X_train.shape)\n",
    "print('X_test = ', X_test.shape)\n",
    "print('y_train=', y_train.shape)\n",
    "print('y_test', y_test.shape)"
   ]
  },
  {
   "cell_type": "code",
   "execution_count": 215,
   "metadata": {},
   "outputs": [
    {
     "name": "stdout",
     "output_type": "stream",
     "text": [
      "(20493, 6)\n"
     ]
    }
   ],
   "source": [
    "target_col = ['toxic', 'severe_toxic', 'obscene', 'threat','insult', 'identity_hate']\n",
    "y = dataset_ds[target_col][0:20493]\n",
    "prd = np.zeros((10095, 6))\n",
    "print(y.shape)"
   ]
  },
  {
   "cell_type": "code",
   "execution_count": 201,
   "metadata": {},
   "outputs": [
    {
     "name": "stdout",
     "output_type": "stream",
     "text": [
      "Building 0 model for column:toxic\n",
      "0.487611887154\n",
      "Building 1 model for column:severe_toxic\n",
      "0.555622568765\n",
      "Building 2 model for column:obscene\n",
      "0.4893497016\n",
      "Building 3 model for column:threat\n",
      "0.565021569548\n",
      "Building 4 model for column:insult\n",
      "0.504110198575\n",
      "Building 5 model for column:identity_hate\n",
      "0.572559558771\n"
     ]
    }
   ],
   "source": [
    "# regression part\n",
    "prd = np.zeros((y_test.shape[0],y.shape[1]))\n",
    "for i,col in enumerate(target_col):\n",
    "    lr = LogisticRegression(C=2,random_state = i,class_weight = 'balanced')\n",
    "    print('Building {} model for column:{''}'.format(i,col)) \n",
    "    lr.fit(X_train,y[col])\n",
    "    prd[:,i] = lr.predict_proba(X_test)[:,1]\\\n",
    "    print(metrics.roc_auc_score(y_test.iloc[:, i] , pd.DataFrame(prd[:, i])))"
   ]
  },
  {
   "cell_type": "code",
   "execution_count": null,
   "metadata": {
    "collapsed": true
   },
   "outputs": [],
   "source": []
  }
 ],
 "metadata": {
  "kernelspec": {
   "display_name": "Python 3",
   "language": "python",
   "name": "python3"
  },
  "language_info": {
   "codemirror_mode": {
    "name": "ipython",
    "version": 3
   },
   "file_extension": ".py",
   "mimetype": "text/x-python",
   "name": "python",
   "nbconvert_exporter": "python",
   "pygments_lexer": "ipython3",
   "version": "3.6.2"
  }
 },
 "nbformat": 4,
 "nbformat_minor": 2
}
